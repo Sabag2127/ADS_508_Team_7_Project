{
 "cells": [
  {
   "cell_type": "markdown",
   "id": "f763acda-2257-48f5-b077-1839be3e0901",
   "metadata": {},
   "source": [
    "# A Predictive Analysis of Loan Approvals through Classification Modeling and Cloud Computing\n",
    "\n",
    "Saba Alemayehu, Dennis Myasnyankin, and Anusia Edward"
   ]
  },
  {
   "cell_type": "markdown",
   "id": "58562f32-16dd-48dd-bd07-6be2ca0ea6b8",
   "metadata": {
    "tags": []
   },
   "source": [
    "# Necessary pips \n",
    "! pip install pyathena\n",
    "! pip install awswrangler \n",
    "! pip install fast_ml\n",
    "! pip install smclarify\n",
    "! pip install sdv\n",
    "# from sdv.tabular import GaussianCopula"
   ]
  },
  {
   "cell_type": "code",
   "execution_count": 21,
   "id": "e99199d3-cf00-4728-bfaf-ea9b70db986e",
   "metadata": {
    "tags": []
   },
   "outputs": [],
   "source": [
    "# Necessary Imports \n",
    "import boto3, os, sagemaker\n",
    "import io\n",
    "import pandas as pd\n",
    "from pandas.core.internals import concat\n",
    "import seaborn as sns\n",
    "import numpy as np\n",
    "import fast_ml\n",
    "from fast_ml.model_development import train_valid_test_split\n",
    "from sklearn.preprocessing import OneHotEncoder\n",
    "from sklearn import preprocessing\n",
    "from sklearn.utils import resample \n",
    "from smclarify.bias import report \n",
    "import matplotlib.pyplot as plt\n",
    "import pyathena as pa\n",
    "from pyathena import connect\n",
    "from pyathena.pandas.cursor import PandasCursor\n",
    "import awswrangler as wr \n",
    "import warnings\n",
    "warnings.filterwarnings(\"ignore\")"
   ]
  },
  {
   "cell_type": "markdown",
   "id": "882e4653-408f-4e8e-b65b-7dd4430fb1ec",
   "metadata": {},
   "source": [
    "## Data Wrangling "
   ]
  },
  {
   "cell_type": "code",
   "execution_count": 22,
   "id": "198b2e7f-ce10-441c-9e09-4a08f65e1628",
   "metadata": {
    "tags": []
   },
   "outputs": [],
   "source": [
    "# database (db) set-up using athena \n",
    "sess = sagemaker.Session()\n",
    "bucket = sess.default_bucket()\n",
    "role = sagemaker.get_execution_role()\n",
    "region = boto3.Session().region_name\n",
    "ingest_create_athena_db_passed = False"
   ]
  },
  {
   "cell_type": "code",
   "execution_count": 23,
   "id": "c1f19257-0c0d-46b1-b700-bd9601f3ea8e",
   "metadata": {
    "tags": []
   },
   "outputs": [],
   "source": [
    "# database (db) name set-up\n",
    "db_name = \"SDAloans\"\n",
    "# s3 staging directory \n",
    "s3_sg_dir = \"s3://{0}/athena/staging\".format(bucket)\n",
    "# connection via directory for querying\n",
    "conn = connect(region_name=region, s3_staging_dir=s3_sg_dir)"
   ]
  },
  {
   "cell_type": "code",
   "execution_count": 24,
   "id": "d8916f2e-eef2-4860-988e-e5131ca33cf4",
   "metadata": {
    "tags": []
   },
   "outputs": [
    {
     "name": "stdout",
     "output_type": "stream",
     "text": [
      "CREATE DATABASE IF NOT EXISTS SDAloans\n"
     ]
    },
    {
     "data": {
      "text/html": [
       "<div>\n",
       "<style scoped>\n",
       "    .dataframe tbody tr th:only-of-type {\n",
       "        vertical-align: middle;\n",
       "    }\n",
       "\n",
       "    .dataframe tbody tr th {\n",
       "        vertical-align: top;\n",
       "    }\n",
       "\n",
       "    .dataframe thead th {\n",
       "        text-align: right;\n",
       "    }\n",
       "</style>\n",
       "<table border=\"1\" class=\"dataframe\">\n",
       "  <thead>\n",
       "    <tr style=\"text-align: right;\">\n",
       "      <th></th>\n",
       "    </tr>\n",
       "  </thead>\n",
       "  <tbody>\n",
       "  </tbody>\n",
       "</table>\n",
       "</div>"
      ],
      "text/plain": [
       "Empty DataFrame\n",
       "Columns: []\n",
       "Index: []"
      ]
     },
     "execution_count": 24,
     "metadata": {},
     "output_type": "execute_result"
    }
   ],
   "source": [
    "# creating the database (db = SDAloans)\n",
    "statement = \"CREATE DATABASE IF NOT EXISTS {}\".format(db_name)\n",
    "print(statement)\n",
    "pd.read_sql(statement, conn)"
   ]
  },
  {
   "cell_type": "code",
   "execution_count": 25,
   "id": "49be12d2-fb6f-4b14-88af-f2d1e20b08d4",
   "metadata": {
    "tags": []
   },
   "outputs": [
    {
     "data": {
      "text/html": [
       "<div>\n",
       "<style scoped>\n",
       "    .dataframe tbody tr th:only-of-type {\n",
       "        vertical-align: middle;\n",
       "    }\n",
       "\n",
       "    .dataframe tbody tr th {\n",
       "        vertical-align: top;\n",
       "    }\n",
       "\n",
       "    .dataframe thead th {\n",
       "        text-align: right;\n",
       "    }\n",
       "</style>\n",
       "<table border=\"1\" class=\"dataframe\">\n",
       "  <thead>\n",
       "    <tr style=\"text-align: right;\">\n",
       "      <th></th>\n",
       "      <th>database_name</th>\n",
       "    </tr>\n",
       "  </thead>\n",
       "  <tbody>\n",
       "    <tr>\n",
       "      <th>0</th>\n",
       "      <td>default</td>\n",
       "    </tr>\n",
       "    <tr>\n",
       "      <th>1</th>\n",
       "      <td>sdaloans</td>\n",
       "    </tr>\n",
       "  </tbody>\n",
       "</table>\n",
       "</div>"
      ],
      "text/plain": [
       "  database_name\n",
       "0       default\n",
       "1      sdaloans"
      ]
     },
     "execution_count": 25,
     "metadata": {},
     "output_type": "execute_result"
    }
   ],
   "source": [
    "# verification of db creation\n",
    "statement = \"SHOW DATABASES\"\n",
    "df_show = pd.read_sql(statement, conn)\n",
    "df_show.head(3)"
   ]
  },
  {
   "cell_type": "code",
   "execution_count": 26,
   "id": "9f854a3e-f56a-4a9b-980d-cfde8132c2eb",
   "metadata": {
    "tags": []
   },
   "outputs": [],
   "source": [
    "# setting directory to s3 bucket with files\n",
    "# SDAloans_dir = 's3://ads508loanapproval/datasets/data1'"
   ]
  },
  {
   "cell_type": "code",
   "execution_count": 27,
   "id": "36ded658-bccc-4bb6-9740-01371baaf87d",
   "metadata": {
    "tags": []
   },
   "outputs": [
    {
     "data": {
      "text/html": [
       "<div>\n",
       "<style scoped>\n",
       "    .dataframe tbody tr th:only-of-type {\n",
       "        vertical-align: middle;\n",
       "    }\n",
       "\n",
       "    .dataframe tbody tr th {\n",
       "        vertical-align: top;\n",
       "    }\n",
       "\n",
       "    .dataframe thead th {\n",
       "        text-align: right;\n",
       "    }\n",
       "</style>\n",
       "<table border=\"1\" class=\"dataframe\">\n",
       "  <thead>\n",
       "    <tr style=\"text-align: right;\">\n",
       "      <th></th>\n",
       "      <th>index</th>\n",
       "      <th>trans_id</th>\n",
       "      <th>account_id</th>\n",
       "      <th>date</th>\n",
       "      <th>type</th>\n",
       "      <th>operation</th>\n",
       "      <th>amount</th>\n",
       "      <th>balance</th>\n",
       "      <th>k_symbol</th>\n",
       "      <th>bank</th>\n",
       "      <th>account</th>\n",
       "    </tr>\n",
       "  </thead>\n",
       "  <tbody>\n",
       "    <tr>\n",
       "      <th>0</th>\n",
       "      <td>515583</td>\n",
       "      <td>839750</td>\n",
       "      <td>2859</td>\n",
       "      <td>None</td>\n",
       "      <td>VYDAJ</td>\n",
       "      <td>VYBER</td>\n",
       "      <td>3600</td>\n",
       "      <td>64639</td>\n",
       "      <td></td>\n",
       "      <td></td>\n",
       "      <td>None</td>\n",
       "    </tr>\n",
       "    <tr>\n",
       "      <th>1</th>\n",
       "      <td>515584</td>\n",
       "      <td>839751</td>\n",
       "      <td>2859</td>\n",
       "      <td>None</td>\n",
       "      <td>VYDAJ</td>\n",
       "      <td>VYBER</td>\n",
       "      <td>3900</td>\n",
       "      <td>26081</td>\n",
       "      <td></td>\n",
       "      <td></td>\n",
       "      <td>None</td>\n",
       "    </tr>\n",
       "    <tr>\n",
       "      <th>2</th>\n",
       "      <td>515585</td>\n",
       "      <td>839754</td>\n",
       "      <td>2859</td>\n",
       "      <td>None</td>\n",
       "      <td>VYDAJ</td>\n",
       "      <td>VYBER</td>\n",
       "      <td>6000</td>\n",
       "      <td>29981</td>\n",
       "      <td></td>\n",
       "      <td></td>\n",
       "      <td>None</td>\n",
       "    </tr>\n",
       "  </tbody>\n",
       "</table>\n",
       "</div>"
      ],
      "text/plain": [
       "    index  trans_id  account_id  date   type operation  amount  balance  \\\n",
       "0  515583    839750        2859  None  VYDAJ     VYBER    3600    64639   \n",
       "1  515584    839751        2859  None  VYDAJ     VYBER    3900    26081   \n",
       "2  515585    839754        2859  None  VYDAJ     VYBER    6000    29981   \n",
       "\n",
       "  k_symbol bank account  \n",
       "0                  None  \n",
       "1                  None  \n",
       "2                  None  "
      ]
     },
     "execution_count": 27,
     "metadata": {},
     "output_type": "execute_result"
    }
   ],
   "source": [
    "# SQL: reading in the 1st dataset=trans.csv as a table (tb) into directory\n",
    "tb1_name ='trans'\n",
    "pd.read_sql(f'DROP TABLE IF EXISTS {db_name}.{tb1_name}', conn)\n",
    "\n",
    "create_table = f\"\"\"\n",
    "CREATE EXTERNAL TABLE IF NOT EXISTS {db_name}.{tb1_name}(\n",
    "                index int,\n",
    "                trans_id int,\n",
    "                account_id int,\n",
    "                date date,\n",
    "                type string,\n",
    "                operation string,\n",
    "                amount int,\n",
    "                balance int,\n",
    "                k_symbol string,\n",
    "                bank string,\n",
    "                account int\n",
    "                )\n",
    "                \n",
    "                ROW FORMAT DELIMITED\n",
    "                FIELDS TERMINATED BY ','\n",
    "                LOCATION 's3://ads508loanapproval/datasets/data1/'\n",
    "                TBLPROPERTIES ('skip.header.line.count'='1')\n",
    "\"\"\"\n",
    "pd.read_sql(create_table, conn)\n",
    "pd.read_sql(f'SELECT * FROM {db_name}.{tb1_name} LIMIT 3', conn)"
   ]
  },
  {
   "cell_type": "code",
   "execution_count": 28,
   "id": "5274dee5-f5aa-47a6-ac83-15ed8d33e00d",
   "metadata": {
    "tags": []
   },
   "outputs": [
    {
     "data": {
      "text/html": [
       "<div>\n",
       "<style scoped>\n",
       "    .dataframe tbody tr th:only-of-type {\n",
       "        vertical-align: middle;\n",
       "    }\n",
       "\n",
       "    .dataframe tbody tr th {\n",
       "        vertical-align: top;\n",
       "    }\n",
       "\n",
       "    .dataframe thead th {\n",
       "        text-align: right;\n",
       "    }\n",
       "</style>\n",
       "<table border=\"1\" class=\"dataframe\">\n",
       "  <thead>\n",
       "    <tr style=\"text-align: right;\">\n",
       "      <th></th>\n",
       "      <th>index</th>\n",
       "      <th>trans_id</th>\n",
       "      <th>type</th>\n",
       "      <th>operation</th>\n",
       "      <th>amount2</th>\n",
       "      <th>balance</th>\n",
       "    </tr>\n",
       "  </thead>\n",
       "  <tbody>\n",
       "    <tr>\n",
       "      <th>0</th>\n",
       "      <td>0</td>\n",
       "      <td>289</td>\n",
       "      <td>Credit</td>\n",
       "      <td>Collection</td>\n",
       "      <td>0</td>\n",
       "      <td>0</td>\n",
       "    </tr>\n",
       "    <tr>\n",
       "      <th>1</th>\n",
       "      <td>1</td>\n",
       "      <td>290</td>\n",
       "      <td>Credit</td>\n",
       "      <td>Collection</td>\n",
       "      <td>0</td>\n",
       "      <td>0</td>\n",
       "    </tr>\n",
       "    <tr>\n",
       "      <th>2</th>\n",
       "      <td>2</td>\n",
       "      <td>291</td>\n",
       "      <td>Credit</td>\n",
       "      <td>Collection</td>\n",
       "      <td>0</td>\n",
       "      <td>0</td>\n",
       "    </tr>\n",
       "  </tbody>\n",
       "</table>\n",
       "</div>"
      ],
      "text/plain": [
       "   index  trans_id    type   operation  amount2  balance\n",
       "0      0       289  Credit  Collection        0        0\n",
       "1      1       290  Credit  Collection        0        0\n",
       "2      2       291  Credit  Collection        0        0"
      ]
     },
     "execution_count": 28,
     "metadata": {},
     "output_type": "execute_result"
    }
   ],
   "source": [
    "# SQL: reading in the 2nd dataset=trans_2.csv as a table (tb) into directory\n",
    "tb2_name ='trans_2'\n",
    "pd.read_sql(f'DROP TABLE IF EXISTS {db_name}.{tb2_name}', conn)\n",
    "\n",
    "create_table = f\"\"\"\n",
    "CREATE EXTERNAL TABLE IF NOT EXISTS {db_name}.{tb2_name}(\n",
    "                index int,\n",
    "                trans_id int,\n",
    "                type string,\n",
    "                operation string,\n",
    "                amount2 int,\n",
    "                balance int\n",
    "                )\n",
    "                \n",
    "                ROW FORMAT DELIMITED\n",
    "                FIELDS TERMINATED BY ','\n",
    "                LOCATION 's3://ads508loanapproval/datasets/data2/'\n",
    "                TBLPROPERTIES ('skip.header.line.count'='1')\n",
    "\"\"\"\n",
    "pd.read_sql(create_table, conn)\n",
    "pd.read_sql(f'SELECT * FROM {db_name}.{tb2_name} LIMIT 3', conn)"
   ]
  },
  {
   "cell_type": "code",
   "execution_count": 29,
   "id": "6ccebe42-460e-43b7-a676-60390ebe750c",
   "metadata": {
    "tags": []
   },
   "outputs": [
    {
     "data": {
      "text/html": [
       "<div>\n",
       "<style scoped>\n",
       "    .dataframe tbody tr th:only-of-type {\n",
       "        vertical-align: middle;\n",
       "    }\n",
       "\n",
       "    .dataframe tbody tr th {\n",
       "        vertical-align: top;\n",
       "    }\n",
       "\n",
       "    .dataframe thead th {\n",
       "        text-align: right;\n",
       "    }\n",
       "</style>\n",
       "<table border=\"1\" class=\"dataframe\">\n",
       "  <thead>\n",
       "    <tr style=\"text-align: right;\">\n",
       "      <th></th>\n",
       "      <th>index</th>\n",
       "      <th>loan_id</th>\n",
       "      <th>account_id</th>\n",
       "      <th>date</th>\n",
       "      <th>amount</th>\n",
       "      <th>duration</th>\n",
       "      <th>payments</th>\n",
       "      <th>status</th>\n",
       "    </tr>\n",
       "  </thead>\n",
       "  <tbody>\n",
       "    <tr>\n",
       "      <th>0</th>\n",
       "      <td>0</td>\n",
       "      <td>4959</td>\n",
       "      <td>2</td>\n",
       "      <td>None</td>\n",
       "      <td>80952</td>\n",
       "      <td>24</td>\n",
       "      <td>3373.0</td>\n",
       "      <td>A</td>\n",
       "    </tr>\n",
       "    <tr>\n",
       "      <th>1</th>\n",
       "      <td>1</td>\n",
       "      <td>4961</td>\n",
       "      <td>19</td>\n",
       "      <td>None</td>\n",
       "      <td>30276</td>\n",
       "      <td>12</td>\n",
       "      <td>2523.0</td>\n",
       "      <td>B</td>\n",
       "    </tr>\n",
       "    <tr>\n",
       "      <th>2</th>\n",
       "      <td>2</td>\n",
       "      <td>4962</td>\n",
       "      <td>25</td>\n",
       "      <td>None</td>\n",
       "      <td>30276</td>\n",
       "      <td>12</td>\n",
       "      <td>2523.0</td>\n",
       "      <td>A</td>\n",
       "    </tr>\n",
       "  </tbody>\n",
       "</table>\n",
       "</div>"
      ],
      "text/plain": [
       "   index  loan_id  account_id  date  amount  duration  payments status\n",
       "0      0     4959           2  None   80952        24    3373.0      A\n",
       "1      1     4961          19  None   30276        12    2523.0      B\n",
       "2      2     4962          25  None   30276        12    2523.0      A"
      ]
     },
     "execution_count": 29,
     "metadata": {},
     "output_type": "execute_result"
    }
   ],
   "source": [
    "# SQL: reading in the 3rd dataset=loan.csv as a table (tb) into directory\n",
    "tb3_name ='loan'\n",
    "pd.read_sql(f'DROP TABLE IF EXISTS {db_name}.{tb3_name}', conn)\n",
    "\n",
    "create_table = f\"\"\"\n",
    "CREATE EXTERNAL TABLE IF NOT EXISTS {db_name}.{tb3_name}(\n",
    "                index int,\n",
    "                loan_id int,\n",
    "                account_id int,\n",
    "                date date,\n",
    "                amount int,\n",
    "                duration int,\n",
    "                payments float,\n",
    "                status string\n",
    "                )\n",
    "                \n",
    "                ROW FORMAT DELIMITED\n",
    "                FIELDS TERMINATED BY ','\n",
    "                LOCATION 's3://ads508loanapproval/datasets/data3/'\n",
    "                TBLPROPERTIES ('skip.header.line.count'='1')\n",
    "\"\"\"\n",
    "pd.read_sql(create_table, conn)\n",
    "pd.read_sql(f'SELECT * FROM {db_name}.{tb3_name} LIMIT 3', conn)"
   ]
  },
  {
   "cell_type": "code",
   "execution_count": 30,
   "id": "a9d3b0f1-57ca-4e10-b907-72fe9cc9bb98",
   "metadata": {
    "tags": []
   },
   "outputs": [
    {
     "data": {
      "text/html": [
       "<div>\n",
       "<style scoped>\n",
       "    .dataframe tbody tr th:only-of-type {\n",
       "        vertical-align: middle;\n",
       "    }\n",
       "\n",
       "    .dataframe tbody tr th {\n",
       "        vertical-align: top;\n",
       "    }\n",
       "\n",
       "    .dataframe thead th {\n",
       "        text-align: right;\n",
       "    }\n",
       "</style>\n",
       "<table border=\"1\" class=\"dataframe\">\n",
       "  <thead>\n",
       "    <tr style=\"text-align: right;\">\n",
       "      <th></th>\n",
       "      <th>index</th>\n",
       "      <th>account_id</th>\n",
       "      <th>district_id</th>\n",
       "      <th>frequency</th>\n",
       "      <th>date</th>\n",
       "    </tr>\n",
       "  </thead>\n",
       "  <tbody>\n",
       "    <tr>\n",
       "      <th>0</th>\n",
       "      <td>0</td>\n",
       "      <td>1</td>\n",
       "      <td>18</td>\n",
       "      <td>POPLATEK MESICNE</td>\n",
       "      <td>None</td>\n",
       "    </tr>\n",
       "    <tr>\n",
       "      <th>1</th>\n",
       "      <td>1</td>\n",
       "      <td>2</td>\n",
       "      <td>1</td>\n",
       "      <td>POPLATEK MESICNE</td>\n",
       "      <td>None</td>\n",
       "    </tr>\n",
       "    <tr>\n",
       "      <th>2</th>\n",
       "      <td>2</td>\n",
       "      <td>3</td>\n",
       "      <td>5</td>\n",
       "      <td>POPLATEK MESICNE</td>\n",
       "      <td>None</td>\n",
       "    </tr>\n",
       "  </tbody>\n",
       "</table>\n",
       "</div>"
      ],
      "text/plain": [
       "   index  account_id  district_id         frequency  date\n",
       "0      0           1           18  POPLATEK MESICNE  None\n",
       "1      1           2            1  POPLATEK MESICNE  None\n",
       "2      2           3            5  POPLATEK MESICNE  None"
      ]
     },
     "execution_count": 30,
     "metadata": {},
     "output_type": "execute_result"
    }
   ],
   "source": [
    "# SQL: reading in the 4th dataset=account.csv as a table (tb) into directory\n",
    "tb4_name ='account'\n",
    "pd.read_sql(f'DROP TABLE IF EXISTS {db_name}.{tb4_name}', conn)\n",
    "\n",
    "create_table = f\"\"\"\n",
    "CREATE EXTERNAL TABLE IF NOT EXISTS {db_name}.{tb4_name}(\n",
    "                index int,\n",
    "                account_id int,\n",
    "                district_id int,\n",
    "                frequency string,\n",
    "                date date\n",
    "                )\n",
    "                \n",
    "                ROW FORMAT DELIMITED\n",
    "                FIELDS TERMINATED BY ','\n",
    "                LOCATION 's3://ads508loanapproval/datasets/data4/'\n",
    "                TBLPROPERTIES ('skip.header.line.count'='1')\n",
    "\"\"\"\n",
    "pd.read_sql(create_table, conn)\n",
    "pd.read_sql(f'SELECT * FROM {db_name}.{tb4_name} LIMIT 3', conn)"
   ]
  },
  {
   "cell_type": "code",
   "execution_count": 31,
   "id": "94af7464-fd99-49e0-b21b-1d35b886b169",
   "metadata": {
    "tags": []
   },
   "outputs": [
    {
     "data": {
      "text/html": [
       "<div>\n",
       "<style scoped>\n",
       "    .dataframe tbody tr th:only-of-type {\n",
       "        vertical-align: middle;\n",
       "    }\n",
       "\n",
       "    .dataframe tbody tr th {\n",
       "        vertical-align: top;\n",
       "    }\n",
       "\n",
       "    .dataframe thead th {\n",
       "        text-align: right;\n",
       "    }\n",
       "</style>\n",
       "<table border=\"1\" class=\"dataframe\">\n",
       "  <thead>\n",
       "    <tr style=\"text-align: right;\">\n",
       "      <th></th>\n",
       "      <th>database_name</th>\n",
       "    </tr>\n",
       "  </thead>\n",
       "  <tbody>\n",
       "    <tr>\n",
       "      <th>0</th>\n",
       "      <td>default</td>\n",
       "    </tr>\n",
       "    <tr>\n",
       "      <th>1</th>\n",
       "      <td>sdaloans</td>\n",
       "    </tr>\n",
       "  </tbody>\n",
       "</table>\n",
       "</div>"
      ],
      "text/plain": [
       "  database_name\n",
       "0       default\n",
       "1      sdaloans"
      ]
     },
     "execution_count": 31,
     "metadata": {},
     "output_type": "execute_result"
    }
   ],
   "source": [
    "# verification of db creation + storing \n",
    "statement = \"SHOW DATABASES\"\n",
    "df_show = pd.read_sql(statement, conn)\n",
    "df_show.head(3)"
   ]
  },
  {
   "cell_type": "code",
   "execution_count": 32,
   "id": "a7dbfc02-1772-4c7c-b0c7-acfd79793c29",
   "metadata": {
    "tags": []
   },
   "outputs": [],
   "source": [
    "if db_name in df_show.values:\n",
    "    ingest_create_athena_db_passed = True"
   ]
  },
  {
   "cell_type": "code",
   "execution_count": 33,
   "id": "6735ffe5-5a17-4892-8e0b-b3daf08aaffa",
   "metadata": {
    "tags": []
   },
   "outputs": [
    {
     "name": "stdout",
     "output_type": "stream",
     "text": [
      "Stored 'ingest_create_athena_db_passed' (bool)\n"
     ]
    }
   ],
   "source": [
    "%store ingest_create_athena_db_passed"
   ]
  },
  {
   "cell_type": "markdown",
   "id": "def59065-3e9a-4f5a-98cd-022292f68dfe",
   "metadata": {
    "tags": []
   },
   "source": [
    "# SQL: merging tb 1-4 + saving as a df \n",
    "df=pd.read_sql(f'SELECT * FROM (SELECT t4.frequency, t3.account_id, t3.account,\\\n",
    "t3.duration, t3.payments, t3.status FROM {db_name}.{tb4_name} t4 RIGHT JOIN \\\n",
    "                            {db_name}.{tb3_name} t3 ON t4.account_id \\\n",
    "                            = t3.account_id) c1 LEFT JOIN (SELECT t1.trans_id,\\\n",
    "                            t1.amount, t1.balance FROM {db_name}.{tb1_name}) t1\\\n",
    "                             ON c1.account_id=t1.account_id) c2 LEFT JOIN\\\n",
    "                              (SELECT t2.operation FROM {db_name}.{tb2_name})\\\n",
    "                              t2 ON c2.trans_id=t2.trans_id', conn)"
   ]
  },
  {
   "cell_type": "markdown",
   "id": "9f5f6427-c40a-497e-ae6c-ba5e91819a47",
   "metadata": {},
   "source": [
    "## Data Preparation"
   ]
  },
  {
   "cell_type": "markdown",
   "id": "e4936123-67be-4eaa-9cee-0b0384c5cdcd",
   "metadata": {},
   "source": [
    "# visualization of merged tb 1-4 into a df \n",
    "df.head(5)"
   ]
  },
  {
   "cell_type": "markdown",
   "id": "f1f5f491-e486-4a1a-ad50-c7f731c17cd6",
   "metadata": {},
   "source": [
    "## Feature Engineering + Removal of Unnecessary Attributes"
   ]
  }
 ],
 "metadata": {
  "availableInstances": [
   {
    "_defaultOrder": 0,
    "_isFastLaunch": true,
    "category": "General purpose",
    "gpuNum": 0,
    "hideHardwareSpecs": false,
    "memoryGiB": 4,
    "name": "ml.t3.medium",
    "vcpuNum": 2
   },
   {
    "_defaultOrder": 1,
    "_isFastLaunch": false,
    "category": "General purpose",
    "gpuNum": 0,
    "hideHardwareSpecs": false,
    "memoryGiB": 8,
    "name": "ml.t3.large",
    "vcpuNum": 2
   },
   {
    "_defaultOrder": 2,
    "_isFastLaunch": false,
    "category": "General purpose",
    "gpuNum": 0,
    "hideHardwareSpecs": false,
    "memoryGiB": 16,
    "name": "ml.t3.xlarge",
    "vcpuNum": 4
   },
   {
    "_defaultOrder": 3,
    "_isFastLaunch": false,
    "category": "General purpose",
    "gpuNum": 0,
    "hideHardwareSpecs": false,
    "memoryGiB": 32,
    "name": "ml.t3.2xlarge",
    "vcpuNum": 8
   },
   {
    "_defaultOrder": 4,
    "_isFastLaunch": true,
    "category": "General purpose",
    "gpuNum": 0,
    "hideHardwareSpecs": false,
    "memoryGiB": 8,
    "name": "ml.m5.large",
    "vcpuNum": 2
   },
   {
    "_defaultOrder": 5,
    "_isFastLaunch": false,
    "category": "General purpose",
    "gpuNum": 0,
    "hideHardwareSpecs": false,
    "memoryGiB": 16,
    "name": "ml.m5.xlarge",
    "vcpuNum": 4
   },
   {
    "_defaultOrder": 6,
    "_isFastLaunch": false,
    "category": "General purpose",
    "gpuNum": 0,
    "hideHardwareSpecs": false,
    "memoryGiB": 32,
    "name": "ml.m5.2xlarge",
    "vcpuNum": 8
   },
   {
    "_defaultOrder": 7,
    "_isFastLaunch": false,
    "category": "General purpose",
    "gpuNum": 0,
    "hideHardwareSpecs": false,
    "memoryGiB": 64,
    "name": "ml.m5.4xlarge",
    "vcpuNum": 16
   },
   {
    "_defaultOrder": 8,
    "_isFastLaunch": false,
    "category": "General purpose",
    "gpuNum": 0,
    "hideHardwareSpecs": false,
    "memoryGiB": 128,
    "name": "ml.m5.8xlarge",
    "vcpuNum": 32
   },
   {
    "_defaultOrder": 9,
    "_isFastLaunch": false,
    "category": "General purpose",
    "gpuNum": 0,
    "hideHardwareSpecs": false,
    "memoryGiB": 192,
    "name": "ml.m5.12xlarge",
    "vcpuNum": 48
   },
   {
    "_defaultOrder": 10,
    "_isFastLaunch": false,
    "category": "General purpose",
    "gpuNum": 0,
    "hideHardwareSpecs": false,
    "memoryGiB": 256,
    "name": "ml.m5.16xlarge",
    "vcpuNum": 64
   },
   {
    "_defaultOrder": 11,
    "_isFastLaunch": false,
    "category": "General purpose",
    "gpuNum": 0,
    "hideHardwareSpecs": false,
    "memoryGiB": 384,
    "name": "ml.m5.24xlarge",
    "vcpuNum": 96
   },
   {
    "_defaultOrder": 12,
    "_isFastLaunch": false,
    "category": "General purpose",
    "gpuNum": 0,
    "hideHardwareSpecs": false,
    "memoryGiB": 8,
    "name": "ml.m5d.large",
    "vcpuNum": 2
   },
   {
    "_defaultOrder": 13,
    "_isFastLaunch": false,
    "category": "General purpose",
    "gpuNum": 0,
    "hideHardwareSpecs": false,
    "memoryGiB": 16,
    "name": "ml.m5d.xlarge",
    "vcpuNum": 4
   },
   {
    "_defaultOrder": 14,
    "_isFastLaunch": false,
    "category": "General purpose",
    "gpuNum": 0,
    "hideHardwareSpecs": false,
    "memoryGiB": 32,
    "name": "ml.m5d.2xlarge",
    "vcpuNum": 8
   },
   {
    "_defaultOrder": 15,
    "_isFastLaunch": false,
    "category": "General purpose",
    "gpuNum": 0,
    "hideHardwareSpecs": false,
    "memoryGiB": 64,
    "name": "ml.m5d.4xlarge",
    "vcpuNum": 16
   },
   {
    "_defaultOrder": 16,
    "_isFastLaunch": false,
    "category": "General purpose",
    "gpuNum": 0,
    "hideHardwareSpecs": false,
    "memoryGiB": 128,
    "name": "ml.m5d.8xlarge",
    "vcpuNum": 32
   },
   {
    "_defaultOrder": 17,
    "_isFastLaunch": false,
    "category": "General purpose",
    "gpuNum": 0,
    "hideHardwareSpecs": false,
    "memoryGiB": 192,
    "name": "ml.m5d.12xlarge",
    "vcpuNum": 48
   },
   {
    "_defaultOrder": 18,
    "_isFastLaunch": false,
    "category": "General purpose",
    "gpuNum": 0,
    "hideHardwareSpecs": false,
    "memoryGiB": 256,
    "name": "ml.m5d.16xlarge",
    "vcpuNum": 64
   },
   {
    "_defaultOrder": 19,
    "_isFastLaunch": false,
    "category": "General purpose",
    "gpuNum": 0,
    "hideHardwareSpecs": false,
    "memoryGiB": 384,
    "name": "ml.m5d.24xlarge",
    "vcpuNum": 96
   },
   {
    "_defaultOrder": 20,
    "_isFastLaunch": false,
    "category": "General purpose",
    "gpuNum": 0,
    "hideHardwareSpecs": true,
    "memoryGiB": 0,
    "name": "ml.geospatial.interactive",
    "supportedImageNames": [
     "sagemaker-geospatial-v1-0"
    ],
    "vcpuNum": 0
   },
   {
    "_defaultOrder": 21,
    "_isFastLaunch": true,
    "category": "Compute optimized",
    "gpuNum": 0,
    "hideHardwareSpecs": false,
    "memoryGiB": 4,
    "name": "ml.c5.large",
    "vcpuNum": 2
   },
   {
    "_defaultOrder": 22,
    "_isFastLaunch": false,
    "category": "Compute optimized",
    "gpuNum": 0,
    "hideHardwareSpecs": false,
    "memoryGiB": 8,
    "name": "ml.c5.xlarge",
    "vcpuNum": 4
   },
   {
    "_defaultOrder": 23,
    "_isFastLaunch": false,
    "category": "Compute optimized",
    "gpuNum": 0,
    "hideHardwareSpecs": false,
    "memoryGiB": 16,
    "name": "ml.c5.2xlarge",
    "vcpuNum": 8
   },
   {
    "_defaultOrder": 24,
    "_isFastLaunch": false,
    "category": "Compute optimized",
    "gpuNum": 0,
    "hideHardwareSpecs": false,
    "memoryGiB": 32,
    "name": "ml.c5.4xlarge",
    "vcpuNum": 16
   },
   {
    "_defaultOrder": 25,
    "_isFastLaunch": false,
    "category": "Compute optimized",
    "gpuNum": 0,
    "hideHardwareSpecs": false,
    "memoryGiB": 72,
    "name": "ml.c5.9xlarge",
    "vcpuNum": 36
   },
   {
    "_defaultOrder": 26,
    "_isFastLaunch": false,
    "category": "Compute optimized",
    "gpuNum": 0,
    "hideHardwareSpecs": false,
    "memoryGiB": 96,
    "name": "ml.c5.12xlarge",
    "vcpuNum": 48
   },
   {
    "_defaultOrder": 27,
    "_isFastLaunch": false,
    "category": "Compute optimized",
    "gpuNum": 0,
    "hideHardwareSpecs": false,
    "memoryGiB": 144,
    "name": "ml.c5.18xlarge",
    "vcpuNum": 72
   },
   {
    "_defaultOrder": 28,
    "_isFastLaunch": false,
    "category": "Compute optimized",
    "gpuNum": 0,
    "hideHardwareSpecs": false,
    "memoryGiB": 192,
    "name": "ml.c5.24xlarge",
    "vcpuNum": 96
   },
   {
    "_defaultOrder": 29,
    "_isFastLaunch": true,
    "category": "Accelerated computing",
    "gpuNum": 1,
    "hideHardwareSpecs": false,
    "memoryGiB": 16,
    "name": "ml.g4dn.xlarge",
    "vcpuNum": 4
   },
   {
    "_defaultOrder": 30,
    "_isFastLaunch": false,
    "category": "Accelerated computing",
    "gpuNum": 1,
    "hideHardwareSpecs": false,
    "memoryGiB": 32,
    "name": "ml.g4dn.2xlarge",
    "vcpuNum": 8
   },
   {
    "_defaultOrder": 31,
    "_isFastLaunch": false,
    "category": "Accelerated computing",
    "gpuNum": 1,
    "hideHardwareSpecs": false,
    "memoryGiB": 64,
    "name": "ml.g4dn.4xlarge",
    "vcpuNum": 16
   },
   {
    "_defaultOrder": 32,
    "_isFastLaunch": false,
    "category": "Accelerated computing",
    "gpuNum": 1,
    "hideHardwareSpecs": false,
    "memoryGiB": 128,
    "name": "ml.g4dn.8xlarge",
    "vcpuNum": 32
   },
   {
    "_defaultOrder": 33,
    "_isFastLaunch": false,
    "category": "Accelerated computing",
    "gpuNum": 4,
    "hideHardwareSpecs": false,
    "memoryGiB": 192,
    "name": "ml.g4dn.12xlarge",
    "vcpuNum": 48
   },
   {
    "_defaultOrder": 34,
    "_isFastLaunch": false,
    "category": "Accelerated computing",
    "gpuNum": 1,
    "hideHardwareSpecs": false,
    "memoryGiB": 256,
    "name": "ml.g4dn.16xlarge",
    "vcpuNum": 64
   },
   {
    "_defaultOrder": 35,
    "_isFastLaunch": false,
    "category": "Accelerated computing",
    "gpuNum": 1,
    "hideHardwareSpecs": false,
    "memoryGiB": 61,
    "name": "ml.p3.2xlarge",
    "vcpuNum": 8
   },
   {
    "_defaultOrder": 36,
    "_isFastLaunch": false,
    "category": "Accelerated computing",
    "gpuNum": 4,
    "hideHardwareSpecs": false,
    "memoryGiB": 244,
    "name": "ml.p3.8xlarge",
    "vcpuNum": 32
   },
   {
    "_defaultOrder": 37,
    "_isFastLaunch": false,
    "category": "Accelerated computing",
    "gpuNum": 8,
    "hideHardwareSpecs": false,
    "memoryGiB": 488,
    "name": "ml.p3.16xlarge",
    "vcpuNum": 64
   },
   {
    "_defaultOrder": 38,
    "_isFastLaunch": false,
    "category": "Accelerated computing",
    "gpuNum": 8,
    "hideHardwareSpecs": false,
    "memoryGiB": 768,
    "name": "ml.p3dn.24xlarge",
    "vcpuNum": 96
   },
   {
    "_defaultOrder": 39,
    "_isFastLaunch": false,
    "category": "Memory Optimized",
    "gpuNum": 0,
    "hideHardwareSpecs": false,
    "memoryGiB": 16,
    "name": "ml.r5.large",
    "vcpuNum": 2
   },
   {
    "_defaultOrder": 40,
    "_isFastLaunch": false,
    "category": "Memory Optimized",
    "gpuNum": 0,
    "hideHardwareSpecs": false,
    "memoryGiB": 32,
    "name": "ml.r5.xlarge",
    "vcpuNum": 4
   },
   {
    "_defaultOrder": 41,
    "_isFastLaunch": false,
    "category": "Memory Optimized",
    "gpuNum": 0,
    "hideHardwareSpecs": false,
    "memoryGiB": 64,
    "name": "ml.r5.2xlarge",
    "vcpuNum": 8
   },
   {
    "_defaultOrder": 42,
    "_isFastLaunch": false,
    "category": "Memory Optimized",
    "gpuNum": 0,
    "hideHardwareSpecs": false,
    "memoryGiB": 128,
    "name": "ml.r5.4xlarge",
    "vcpuNum": 16
   },
   {
    "_defaultOrder": 43,
    "_isFastLaunch": false,
    "category": "Memory Optimized",
    "gpuNum": 0,
    "hideHardwareSpecs": false,
    "memoryGiB": 256,
    "name": "ml.r5.8xlarge",
    "vcpuNum": 32
   },
   {
    "_defaultOrder": 44,
    "_isFastLaunch": false,
    "category": "Memory Optimized",
    "gpuNum": 0,
    "hideHardwareSpecs": false,
    "memoryGiB": 384,
    "name": "ml.r5.12xlarge",
    "vcpuNum": 48
   },
   {
    "_defaultOrder": 45,
    "_isFastLaunch": false,
    "category": "Memory Optimized",
    "gpuNum": 0,
    "hideHardwareSpecs": false,
    "memoryGiB": 512,
    "name": "ml.r5.16xlarge",
    "vcpuNum": 64
   },
   {
    "_defaultOrder": 46,
    "_isFastLaunch": false,
    "category": "Memory Optimized",
    "gpuNum": 0,
    "hideHardwareSpecs": false,
    "memoryGiB": 768,
    "name": "ml.r5.24xlarge",
    "vcpuNum": 96
   },
   {
    "_defaultOrder": 47,
    "_isFastLaunch": false,
    "category": "Accelerated computing",
    "gpuNum": 1,
    "hideHardwareSpecs": false,
    "memoryGiB": 16,
    "name": "ml.g5.xlarge",
    "vcpuNum": 4
   },
   {
    "_defaultOrder": 48,
    "_isFastLaunch": false,
    "category": "Accelerated computing",
    "gpuNum": 1,
    "hideHardwareSpecs": false,
    "memoryGiB": 32,
    "name": "ml.g5.2xlarge",
    "vcpuNum": 8
   },
   {
    "_defaultOrder": 49,
    "_isFastLaunch": false,
    "category": "Accelerated computing",
    "gpuNum": 1,
    "hideHardwareSpecs": false,
    "memoryGiB": 64,
    "name": "ml.g5.4xlarge",
    "vcpuNum": 16
   },
   {
    "_defaultOrder": 50,
    "_isFastLaunch": false,
    "category": "Accelerated computing",
    "gpuNum": 1,
    "hideHardwareSpecs": false,
    "memoryGiB": 128,
    "name": "ml.g5.8xlarge",
    "vcpuNum": 32
   },
   {
    "_defaultOrder": 51,
    "_isFastLaunch": false,
    "category": "Accelerated computing",
    "gpuNum": 1,
    "hideHardwareSpecs": false,
    "memoryGiB": 256,
    "name": "ml.g5.16xlarge",
    "vcpuNum": 64
   },
   {
    "_defaultOrder": 52,
    "_isFastLaunch": false,
    "category": "Accelerated computing",
    "gpuNum": 4,
    "hideHardwareSpecs": false,
    "memoryGiB": 192,
    "name": "ml.g5.12xlarge",
    "vcpuNum": 48
   },
   {
    "_defaultOrder": 53,
    "_isFastLaunch": false,
    "category": "Accelerated computing",
    "gpuNum": 4,
    "hideHardwareSpecs": false,
    "memoryGiB": 384,
    "name": "ml.g5.24xlarge",
    "vcpuNum": 96
   },
   {
    "_defaultOrder": 54,
    "_isFastLaunch": false,
    "category": "Accelerated computing",
    "gpuNum": 8,
    "hideHardwareSpecs": false,
    "memoryGiB": 768,
    "name": "ml.g5.48xlarge",
    "vcpuNum": 192
   }
  ],
  "instance_type": "ml.t3.medium",
  "kernelspec": {
   "display_name": "Python 3 (Data Science)",
   "language": "python",
   "name": "python3__SAGEMAKER_INTERNAL__arn:aws:sagemaker:us-east-1:081325390199:image/datascience-1.0"
  },
  "language_info": {
   "codemirror_mode": {
    "name": "ipython",
    "version": 3
   },
   "file_extension": ".py",
   "mimetype": "text/x-python",
   "name": "python",
   "nbconvert_exporter": "python",
   "pygments_lexer": "ipython3",
   "version": "3.7.10"
  }
 },
 "nbformat": 4,
 "nbformat_minor": 5
}
