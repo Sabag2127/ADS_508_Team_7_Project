{
 "cells": [
  {
   "cell_type": "markdown",
   "id": "f763acda-2257-48f5-b077-1839be3e0901",
   "metadata": {},
   "source": [
    "# A Predictive Analysis of Loan Approvals through Classification Modeling and Cloud Computing\n",
    "\n",
    "Saba Alemayehu, Dennis Myasnyankin, and Anusia Edward"
   ]
  },
  {
   "cell_type": "code",
   "execution_count": 16,
   "id": "bdfc54de-9757-4a0a-8715-b0f7e013df22",
   "metadata": {
    "tags": []
   },
   "outputs": [],
   "source": [
    "# Necessary pips \n",
    "#! pip install pyathena\n",
    "#! pip install awswrangler \n",
    "#! pip install fast_ml\n",
    "#! pip install smclarify\n",
    "#! pip install sdv\n",
    "# from sdv.tabular import GaussianCopula"
   ]
  },
  {
   "cell_type": "code",
   "execution_count": 24,
   "id": "e99199d3-cf00-4728-bfaf-ea9b70db986e",
   "metadata": {
    "tags": []
   },
   "outputs": [],
   "source": [
    "# Necessary Imports \n",
    "import boto3, os, sagemaker\n",
    "import io\n",
    "import pandas as pd\n",
    "from pandas.core.internals import concat\n",
    "import seaborn as sns\n",
    "import numpy as np\n",
    "import fast_ml\n",
    "from fast_ml.model_development import train_valid_test_split\n",
    "from sklearn.preprocessing import OneHotEncoder\n",
    "from sklearn import preprocessing\n",
    "from sklearn.utils import resample \n",
    "from smclarify.bias import report \n",
    "import matplotlib.pyplot as plt\n",
    "import pyathena as pa\n",
    "from pyathena import connect\n",
    "from pyathena.pandas.cursor import PandasCursor\n",
    "import awswrangler as wr \n",
    "import warnings\n",
    "warnings.filterwarnings(\"ignore\")"
   ]
  },
  {
   "cell_type": "markdown",
   "id": "882e4653-408f-4e8e-b65b-7dd4430fb1ec",
   "metadata": {},
   "source": [
    "## Data Wrangling "
   ]
  },
  {
   "cell_type": "code",
   "execution_count": 22,
   "id": "198b2e7f-ce10-441c-9e09-4a08f65e1628",
   "metadata": {
    "tags": []
   },
   "outputs": [],
   "source": [
    "# database (db) set-up using athena \n",
    "sess = sagemaker.Session()\n",
    "bucket = sess.default_bucket()\n",
    "role = sagemaker.get_execution_role()\n",
    "region = boto3.Session().region_name\n",
    "ingest_create_athena_db_passed = False"
   ]
  },
  {
   "cell_type": "code",
   "execution_count": 25,
   "id": "c1f19257-0c0d-46b1-b700-bd9601f3ea8e",
   "metadata": {
    "tags": []
   },
   "outputs": [],
   "source": [
    "# database (db) name set-up\n",
    "db_name = \"SDAloans\"\n",
    "# s3 staging directory \n",
    "s3_sg_dir = \"s3://{0}/athena/staging\".format(bucket)\n",
    "# connection via directory for querying\n",
    "conn = connect(region_name=region, s3_staging_dir=s3_sg_dir)"
   ]
  },
  {
   "cell_type": "code",
   "execution_count": 26,
   "id": "d8916f2e-eef2-4860-988e-e5131ca33cf4",
   "metadata": {
    "tags": []
   },
   "outputs": [
    {
     "name": "stdout",
     "output_type": "stream",
     "text": [
      "CREATE DATABASE IF NOT EXISTS SDAloans\n"
     ]
    },
    {
     "data": {
      "text/html": [
       "<div>\n",
       "<style scoped>\n",
       "    .dataframe tbody tr th:only-of-type {\n",
       "        vertical-align: middle;\n",
       "    }\n",
       "\n",
       "    .dataframe tbody tr th {\n",
       "        vertical-align: top;\n",
       "    }\n",
       "\n",
       "    .dataframe thead th {\n",
       "        text-align: right;\n",
       "    }\n",
       "</style>\n",
       "<table border=\"1\" class=\"dataframe\">\n",
       "  <thead>\n",
       "    <tr style=\"text-align: right;\">\n",
       "      <th></th>\n",
       "    </tr>\n",
       "  </thead>\n",
       "  <tbody>\n",
       "  </tbody>\n",
       "</table>\n",
       "</div>"
      ],
      "text/plain": [
       "Empty DataFrame\n",
       "Columns: []\n",
       "Index: []"
      ]
     },
     "execution_count": 26,
     "metadata": {},
     "output_type": "execute_result"
    }
   ],
   "source": [
    "# creating the database (db = SDAloans)\n",
    "statement = \"CREATE DATABASE IF NOT EXISTS {}\".format(db_name)\n",
    "print(statement)\n",
    "pd.read_sql(statement, conn)"
   ]
  },
  {
   "cell_type": "code",
   "execution_count": 27,
   "id": "49be12d2-fb6f-4b14-88af-f2d1e20b08d4",
   "metadata": {
    "tags": []
   },
   "outputs": [
    {
     "data": {
      "text/html": [
       "<div>\n",
       "<style scoped>\n",
       "    .dataframe tbody tr th:only-of-type {\n",
       "        vertical-align: middle;\n",
       "    }\n",
       "\n",
       "    .dataframe tbody tr th {\n",
       "        vertical-align: top;\n",
       "    }\n",
       "\n",
       "    .dataframe thead th {\n",
       "        text-align: right;\n",
       "    }\n",
       "</style>\n",
       "<table border=\"1\" class=\"dataframe\">\n",
       "  <thead>\n",
       "    <tr style=\"text-align: right;\">\n",
       "      <th></th>\n",
       "      <th>database_name</th>\n",
       "    </tr>\n",
       "  </thead>\n",
       "  <tbody>\n",
       "    <tr>\n",
       "      <th>0</th>\n",
       "      <td>default</td>\n",
       "    </tr>\n",
       "    <tr>\n",
       "      <th>1</th>\n",
       "      <td>sdaloans</td>\n",
       "    </tr>\n",
       "  </tbody>\n",
       "</table>\n",
       "</div>"
      ],
      "text/plain": [
       "  database_name\n",
       "0       default\n",
       "1      sdaloans"
      ]
     },
     "execution_count": 27,
     "metadata": {},
     "output_type": "execute_result"
    }
   ],
   "source": [
    "# verification of db creation\n",
    "statement = \"SHOW DATABASES\"\n",
    "df_show = pd.read_sql(statement, conn)\n",
    "df_show.head(3)"
   ]
  },
  {
   "cell_type": "code",
   "execution_count": 51,
   "id": "9f854a3e-f56a-4a9b-980d-cfde8132c2eb",
   "metadata": {
    "tags": []
   },
   "outputs": [],
   "source": [
    "# setting directory to s3 bucket with files\n",
    "SDAloans_dir = 's3://ads508loanapproval/datasets/'"
   ]
  },
  {
   "cell_type": "code",
   "execution_count": 58,
   "id": "36ded658-bccc-4bb6-9740-01371baaf87d",
   "metadata": {
    "tags": []
   },
   "outputs": [
    {
     "data": {
      "text/html": [
       "<div>\n",
       "<style scoped>\n",
       "    .dataframe tbody tr th:only-of-type {\n",
       "        vertical-align: middle;\n",
       "    }\n",
       "\n",
       "    .dataframe tbody tr th {\n",
       "        vertical-align: top;\n",
       "    }\n",
       "\n",
       "    .dataframe thead th {\n",
       "        text-align: right;\n",
       "    }\n",
       "</style>\n",
       "<table border=\"1\" class=\"dataframe\">\n",
       "  <thead>\n",
       "    <tr style=\"text-align: right;\">\n",
       "      <th></th>\n",
       "      <th>index</th>\n",
       "      <th>trans_id</th>\n",
       "      <th>account_id</th>\n",
       "      <th>date</th>\n",
       "      <th>type</th>\n",
       "      <th>operation</th>\n",
       "      <th>amount</th>\n",
       "      <th>balance</th>\n",
       "      <th>k_symbol</th>\n",
       "      <th>bank</th>\n",
       "      <th>account</th>\n",
       "    </tr>\n",
       "  </thead>\n",
       "  <tbody>\n",
       "  </tbody>\n",
       "</table>\n",
       "</div>"
      ],
      "text/plain": [
       "Empty DataFrame\n",
       "Columns: [index, trans_id, account_id, date, type, operation, amount, balance, k_symbol, bank, account]\n",
       "Index: []"
      ]
     },
     "execution_count": 58,
     "metadata": {},
     "output_type": "execute_result"
    }
   ],
   "source": [
    "# SQL: reading in the 1st dataset=trans.csv as a table (tb) into directory\n",
    "tb1_name ='trans'\n",
    "pd.read_sql(f'DROP TABLE IF EXISTS {db_name}.{tb1_name}', conn)\n",
    "\n",
    "create_table = f\"\"\"\n",
    "CREATE EXTERNAL TABLE IF NOT EXISTS {db_name}.{tb1_name}(\n",
    "                index int,\n",
    "                trans_id int,\n",
    "                account_id int,\n",
    "                date date,\n",
    "                type string,\n",
    "                operation string,\n",
    "                amount int,\n",
    "                balance int,\n",
    "                k_symbol string,\n",
    "                bank string,\n",
    "                account int\n",
    "                )\n",
    "                \n",
    "                ROW FORMAT DELIMITED\n",
    "                FIELDS TERMINATED BY ','\n",
    "                LOCATION '{SDAloans_dir}/{tb2_name}'\n",
    "                TBLPROPERTIES ('skip.header.line.count'='1')\n",
    "\"\"\"\n",
    "pd.read_sql(create_table, conn)\n",
    "pd.read_sql(f'SELECT * FROM {db_name}.{tb1_name} LIMIT 5', conn)"
   ]
  },
  {
   "cell_type": "code",
   "execution_count": 36,
   "id": "5274dee5-f5aa-47a6-ac83-15ed8d33e00d",
   "metadata": {
    "tags": []
   },
   "outputs": [
    {
     "data": {
      "text/html": [
       "<div>\n",
       "<style scoped>\n",
       "    .dataframe tbody tr th:only-of-type {\n",
       "        vertical-align: middle;\n",
       "    }\n",
       "\n",
       "    .dataframe tbody tr th {\n",
       "        vertical-align: top;\n",
       "    }\n",
       "\n",
       "    .dataframe thead th {\n",
       "        text-align: right;\n",
       "    }\n",
       "</style>\n",
       "<table border=\"1\" class=\"dataframe\">\n",
       "  <thead>\n",
       "    <tr style=\"text-align: right;\">\n",
       "      <th></th>\n",
       "      <th>index</th>\n",
       "      <th>trans_id</th>\n",
       "      <th>type</th>\n",
       "      <th>operation</th>\n",
       "      <th>amount2</th>\n",
       "      <th>balance</th>\n",
       "    </tr>\n",
       "  </thead>\n",
       "  <tbody>\n",
       "  </tbody>\n",
       "</table>\n",
       "</div>"
      ],
      "text/plain": [
       "Empty DataFrame\n",
       "Columns: [index, trans_id, type, operation, amount2, balance]\n",
       "Index: []"
      ]
     },
     "execution_count": 36,
     "metadata": {},
     "output_type": "execute_result"
    }
   ],
   "source": [
    "# SQL: reading in the 2nd dataset=trans_2.csv as a table (tb) into directory\n",
    "tb2_name ='trans_2'\n",
    "pd.read_sql(f'DROP TABLE IF EXISTS {db_name}.{tb2_name}', conn)\n",
    "\n",
    "create_table = f\"\"\"\n",
    "CREATE EXTERNAL TABLE IF NOT EXISTS {db_name}.{tb2_name}(\n",
    "                index int,\n",
    "                trans_id int,\n",
    "                type string,\n",
    "                operation string,\n",
    "                amount2 int,\n",
    "                balance int\n",
    "                )\n",
    "                \n",
    "                ROW FORMAT DELIMITED\n",
    "                FIELDS TERMINATED BY ','\n",
    "                LOCATION '{SDAloans_dir}/{tb2_name}'\n",
    "                TBLPROPERTIES ('skip.header.line.count'='1')\n",
    "\"\"\"\n",
    "pd.read_sql(create_table, conn)\n",
    "pd.read_sql(f'SELECT * FROM {db_name}.{tb2_name} LIMIT 3', conn)"
   ]
  },
  {
   "cell_type": "code",
   "execution_count": 37,
   "id": "6ccebe42-460e-43b7-a676-60390ebe750c",
   "metadata": {
    "tags": []
   },
   "outputs": [
    {
     "data": {
      "text/html": [
       "<div>\n",
       "<style scoped>\n",
       "    .dataframe tbody tr th:only-of-type {\n",
       "        vertical-align: middle;\n",
       "    }\n",
       "\n",
       "    .dataframe tbody tr th {\n",
       "        vertical-align: top;\n",
       "    }\n",
       "\n",
       "    .dataframe thead th {\n",
       "        text-align: right;\n",
       "    }\n",
       "</style>\n",
       "<table border=\"1\" class=\"dataframe\">\n",
       "  <thead>\n",
       "    <tr style=\"text-align: right;\">\n",
       "      <th></th>\n",
       "      <th>index</th>\n",
       "      <th>loan_id</th>\n",
       "      <th>account_id</th>\n",
       "      <th>date</th>\n",
       "      <th>amount</th>\n",
       "      <th>duration</th>\n",
       "      <th>payments</th>\n",
       "      <th>status</th>\n",
       "    </tr>\n",
       "  </thead>\n",
       "  <tbody>\n",
       "  </tbody>\n",
       "</table>\n",
       "</div>"
      ],
      "text/plain": [
       "Empty DataFrame\n",
       "Columns: [index, loan_id, account_id, date, amount, duration, payments, status]\n",
       "Index: []"
      ]
     },
     "execution_count": 37,
     "metadata": {},
     "output_type": "execute_result"
    }
   ],
   "source": [
    "# SQL: reading in the 3rd dataset=loan.csv as a table (tb) into directory\n",
    "tb3_name ='loan'\n",
    "pd.read_sql(f'DROP TABLE IF EXISTS {db_name}.{tb3_name}', conn)\n",
    "\n",
    "create_table = f\"\"\"\n",
    "CREATE EXTERNAL TABLE IF NOT EXISTS {db_name}.{tb3_name}(\n",
    "                index int,\n",
    "                loan_id int,\n",
    "                account_id int,\n",
    "                date date,\n",
    "                amount int,\n",
    "                duration int,\n",
    "                payments float,\n",
    "                status string\n",
    "                )\n",
    "                \n",
    "                ROW FORMAT DELIMITED\n",
    "                FIELDS TERMINATED BY ','\n",
    "                LOCATION '{SDAloans_dir}/{tb3_name}'\n",
    "                TBLPROPERTIES ('skip.header.line.count'='1')\n",
    "\"\"\"\n",
    "pd.read_sql(create_table, conn)\n",
    "pd.read_sql(f'SELECT * FROM {db_name}.{tb3_name} LIMIT 3', conn)"
   ]
  },
  {
   "cell_type": "code",
   "execution_count": 38,
   "id": "a9d3b0f1-57ca-4e10-b907-72fe9cc9bb98",
   "metadata": {
    "tags": []
   },
   "outputs": [
    {
     "data": {
      "text/html": [
       "<div>\n",
       "<style scoped>\n",
       "    .dataframe tbody tr th:only-of-type {\n",
       "        vertical-align: middle;\n",
       "    }\n",
       "\n",
       "    .dataframe tbody tr th {\n",
       "        vertical-align: top;\n",
       "    }\n",
       "\n",
       "    .dataframe thead th {\n",
       "        text-align: right;\n",
       "    }\n",
       "</style>\n",
       "<table border=\"1\" class=\"dataframe\">\n",
       "  <thead>\n",
       "    <tr style=\"text-align: right;\">\n",
       "      <th></th>\n",
       "      <th>index</th>\n",
       "      <th>account_id</th>\n",
       "      <th>district_id</th>\n",
       "      <th>frequency</th>\n",
       "      <th>date</th>\n",
       "    </tr>\n",
       "  </thead>\n",
       "  <tbody>\n",
       "  </tbody>\n",
       "</table>\n",
       "</div>"
      ],
      "text/plain": [
       "Empty DataFrame\n",
       "Columns: [index, account_id, district_id, frequency, date]\n",
       "Index: []"
      ]
     },
     "execution_count": 38,
     "metadata": {},
     "output_type": "execute_result"
    }
   ],
   "source": [
    "# SQL: reading in the 4th dataset=account.csv as a table (tb) into directory\n",
    "tb4_name ='account'\n",
    "pd.read_sql(f'DROP TABLE IF EXISTS {db_name}.{tb4_name}', conn)\n",
    "\n",
    "create_table = f\"\"\"\n",
    "CREATE EXTERNAL TABLE IF NOT EXISTS {db_name}.{tb4_name}(\n",
    "                index int,\n",
    "                account_id int,\n",
    "                district_id int,\n",
    "                frequency string,\n",
    "                date date\n",
    "                )\n",
    "                \n",
    "                ROW FORMAT DELIMITED\n",
    "                FIELDS TERMINATED BY ','\n",
    "                LOCATION '{SDAloans_dir}/{tb4_name}'\n",
    "                TBLPROPERTIES ('skip.header.line.count'='1')\n",
    "\"\"\"\n",
    "pd.read_sql(create_table, conn)\n",
    "pd.read_sql(f'SELECT * FROM {db_name}.{tb4_name} LIMIT 3', conn)"
   ]
  },
  {
   "cell_type": "code",
   "execution_count": 39,
   "id": "94af7464-fd99-49e0-b21b-1d35b886b169",
   "metadata": {
    "tags": []
   },
   "outputs": [
    {
     "data": {
      "text/html": [
       "<div>\n",
       "<style scoped>\n",
       "    .dataframe tbody tr th:only-of-type {\n",
       "        vertical-align: middle;\n",
       "    }\n",
       "\n",
       "    .dataframe tbody tr th {\n",
       "        vertical-align: top;\n",
       "    }\n",
       "\n",
       "    .dataframe thead th {\n",
       "        text-align: right;\n",
       "    }\n",
       "</style>\n",
       "<table border=\"1\" class=\"dataframe\">\n",
       "  <thead>\n",
       "    <tr style=\"text-align: right;\">\n",
       "      <th></th>\n",
       "      <th>database_name</th>\n",
       "    </tr>\n",
       "  </thead>\n",
       "  <tbody>\n",
       "    <tr>\n",
       "      <th>0</th>\n",
       "      <td>default</td>\n",
       "    </tr>\n",
       "    <tr>\n",
       "      <th>1</th>\n",
       "      <td>sdaloans</td>\n",
       "    </tr>\n",
       "  </tbody>\n",
       "</table>\n",
       "</div>"
      ],
      "text/plain": [
       "  database_name\n",
       "0       default\n",
       "1      sdaloans"
      ]
     },
     "execution_count": 39,
     "metadata": {},
     "output_type": "execute_result"
    }
   ],
   "source": [
    "# verification of db creation + storing \n",
    "statement = \"SHOW DATABASES\"\n",
    "df_show = pd.read_sql(statement, conn)\n",
    "df_show.head(3)"
   ]
  },
  {
   "cell_type": "code",
   "execution_count": 41,
   "id": "a7dbfc02-1772-4c7c-b0c7-acfd79793c29",
   "metadata": {
    "tags": []
   },
   "outputs": [],
   "source": [
    "if db_name in df_show.values:\n",
    "    ingest_create_athena_db_passed = True"
   ]
  },
  {
   "cell_type": "code",
   "execution_count": 42,
   "id": "6735ffe5-5a17-4892-8e0b-b3daf08aaffa",
   "metadata": {
    "tags": []
   },
   "outputs": [
    {
     "name": "stdout",
     "output_type": "stream",
     "text": [
      "Stored 'ingest_create_athena_db_passed' (bool)\n"
     ]
    }
   ],
   "source": [
    "%store ingest_create_athena_db_passed"
   ]
  },
  {
   "cell_type": "code",
   "execution_count": 59,
   "id": "0fb353d5-3887-4f39-a9b6-6e99ee593b9b",
   "metadata": {
    "tags": []
   },
   "outputs": [],
   "source": [
    "# SQL: merging tb 1-4 + saving as a df \n",
    "#df=pd.read_sql(f'SELECT * FROM (SELECT t4.frequency, t3.account_id, t3.account,\\\n",
    "#t3.duration, t3.payments, t3.status FROM {db_name}.{tb4_name} t4 RIGHT JOIN \\\n",
    " #                           {db_name}.{tb3_name} t3 ON t4.account_id \\\n",
    "   #                         = t3.account_id) c1 LEFT JOIN (SELECT t1.trans_id,\\\n",
    "    #                        t1.amount, t1.balance FROM {db_name}.{tb1_name}) t1\\\n",
    "   #                          ON c1.account_id=t1.account_id) c2 LEFT JOIN\\\n",
    "    #                          (SELECT t2.operation FROM {db_name}.{tb2_name})\\\n",
    "      #                        t2 ON c2.trans_id=t2.trans_id', conn)"
   ]
  },
  {
   "cell_type": "code",
   "execution_count": null,
   "id": "1ba4dabf-8847-4c7e-aa72-d522bd9e453b",
   "metadata": {},
   "outputs": [],
   "source": []
  }
 ],
 "metadata": {
  "availableInstances": [
   {
    "_defaultOrder": 0,
    "_isFastLaunch": true,
    "category": "General purpose",
    "gpuNum": 0,
    "memoryGiB": 4,
    "name": "ml.t3.medium",
    "vcpuNum": 2
   },
   {
    "_defaultOrder": 1,
    "_isFastLaunch": false,
    "category": "General purpose",
    "gpuNum": 0,
    "memoryGiB": 8,
    "name": "ml.t3.large",
    "vcpuNum": 2
   },
   {
    "_defaultOrder": 2,
    "_isFastLaunch": false,
    "category": "General purpose",
    "gpuNum": 0,
    "memoryGiB": 16,
    "name": "ml.t3.xlarge",
    "vcpuNum": 4
   },
   {
    "_defaultOrder": 3,
    "_isFastLaunch": false,
    "category": "General purpose",
    "gpuNum": 0,
    "memoryGiB": 32,
    "name": "ml.t3.2xlarge",
    "vcpuNum": 8
   },
   {
    "_defaultOrder": 4,
    "_isFastLaunch": true,
    "category": "General purpose",
    "gpuNum": 0,
    "memoryGiB": 8,
    "name": "ml.m5.large",
    "vcpuNum": 2
   },
   {
    "_defaultOrder": 5,
    "_isFastLaunch": false,
    "category": "General purpose",
    "gpuNum": 0,
    "memoryGiB": 16,
    "name": "ml.m5.xlarge",
    "vcpuNum": 4
   },
   {
    "_defaultOrder": 6,
    "_isFastLaunch": false,
    "category": "General purpose",
    "gpuNum": 0,
    "memoryGiB": 32,
    "name": "ml.m5.2xlarge",
    "vcpuNum": 8
   },
   {
    "_defaultOrder": 7,
    "_isFastLaunch": false,
    "category": "General purpose",
    "gpuNum": 0,
    "memoryGiB": 64,
    "name": "ml.m5.4xlarge",
    "vcpuNum": 16
   },
   {
    "_defaultOrder": 8,
    "_isFastLaunch": false,
    "category": "General purpose",
    "gpuNum": 0,
    "memoryGiB": 128,
    "name": "ml.m5.8xlarge",
    "vcpuNum": 32
   },
   {
    "_defaultOrder": 9,
    "_isFastLaunch": false,
    "category": "General purpose",
    "gpuNum": 0,
    "memoryGiB": 192,
    "name": "ml.m5.12xlarge",
    "vcpuNum": 48
   },
   {
    "_defaultOrder": 10,
    "_isFastLaunch": false,
    "category": "General purpose",
    "gpuNum": 0,
    "memoryGiB": 256,
    "name": "ml.m5.16xlarge",
    "vcpuNum": 64
   },
   {
    "_defaultOrder": 11,
    "_isFastLaunch": false,
    "category": "General purpose",
    "gpuNum": 0,
    "memoryGiB": 384,
    "name": "ml.m5.24xlarge",
    "vcpuNum": 96
   },
   {
    "_defaultOrder": 12,
    "_isFastLaunch": false,
    "category": "General purpose",
    "gpuNum": 0,
    "memoryGiB": 8,
    "name": "ml.m5d.large",
    "vcpuNum": 2
   },
   {
    "_defaultOrder": 13,
    "_isFastLaunch": false,
    "category": "General purpose",
    "gpuNum": 0,
    "memoryGiB": 16,
    "name": "ml.m5d.xlarge",
    "vcpuNum": 4
   },
   {
    "_defaultOrder": 14,
    "_isFastLaunch": false,
    "category": "General purpose",
    "gpuNum": 0,
    "memoryGiB": 32,
    "name": "ml.m5d.2xlarge",
    "vcpuNum": 8
   },
   {
    "_defaultOrder": 15,
    "_isFastLaunch": false,
    "category": "General purpose",
    "gpuNum": 0,
    "memoryGiB": 64,
    "name": "ml.m5d.4xlarge",
    "vcpuNum": 16
   },
   {
    "_defaultOrder": 16,
    "_isFastLaunch": false,
    "category": "General purpose",
    "gpuNum": 0,
    "memoryGiB": 128,
    "name": "ml.m5d.8xlarge",
    "vcpuNum": 32
   },
   {
    "_defaultOrder": 17,
    "_isFastLaunch": false,
    "category": "General purpose",
    "gpuNum": 0,
    "memoryGiB": 192,
    "name": "ml.m5d.12xlarge",
    "vcpuNum": 48
   },
   {
    "_defaultOrder": 18,
    "_isFastLaunch": false,
    "category": "General purpose",
    "gpuNum": 0,
    "memoryGiB": 256,
    "name": "ml.m5d.16xlarge",
    "vcpuNum": 64
   },
   {
    "_defaultOrder": 19,
    "_isFastLaunch": false,
    "category": "General purpose",
    "gpuNum": 0,
    "memoryGiB": 384,
    "name": "ml.m5d.24xlarge",
    "vcpuNum": 96
   },
   {
    "_defaultOrder": 20,
    "_isFastLaunch": true,
    "category": "Compute optimized",
    "gpuNum": 0,
    "memoryGiB": 4,
    "name": "ml.c5.large",
    "vcpuNum": 2
   },
   {
    "_defaultOrder": 21,
    "_isFastLaunch": false,
    "category": "Compute optimized",
    "gpuNum": 0,
    "memoryGiB": 8,
    "name": "ml.c5.xlarge",
    "vcpuNum": 4
   },
   {
    "_defaultOrder": 22,
    "_isFastLaunch": false,
    "category": "Compute optimized",
    "gpuNum": 0,
    "memoryGiB": 16,
    "name": "ml.c5.2xlarge",
    "vcpuNum": 8
   },
   {
    "_defaultOrder": 23,
    "_isFastLaunch": false,
    "category": "Compute optimized",
    "gpuNum": 0,
    "memoryGiB": 32,
    "name": "ml.c5.4xlarge",
    "vcpuNum": 16
   },
   {
    "_defaultOrder": 24,
    "_isFastLaunch": false,
    "category": "Compute optimized",
    "gpuNum": 0,
    "memoryGiB": 72,
    "name": "ml.c5.9xlarge",
    "vcpuNum": 36
   },
   {
    "_defaultOrder": 25,
    "_isFastLaunch": false,
    "category": "Compute optimized",
    "gpuNum": 0,
    "memoryGiB": 96,
    "name": "ml.c5.12xlarge",
    "vcpuNum": 48
   },
   {
    "_defaultOrder": 26,
    "_isFastLaunch": false,
    "category": "Compute optimized",
    "gpuNum": 0,
    "memoryGiB": 144,
    "name": "ml.c5.18xlarge",
    "vcpuNum": 72
   },
   {
    "_defaultOrder": 27,
    "_isFastLaunch": false,
    "category": "Compute optimized",
    "gpuNum": 0,
    "memoryGiB": 192,
    "name": "ml.c5.24xlarge",
    "vcpuNum": 96
   },
   {
    "_defaultOrder": 28,
    "_isFastLaunch": true,
    "category": "Accelerated computing",
    "gpuNum": 1,
    "memoryGiB": 16,
    "name": "ml.g4dn.xlarge",
    "vcpuNum": 4
   },
   {
    "_defaultOrder": 29,
    "_isFastLaunch": false,
    "category": "Accelerated computing",
    "gpuNum": 1,
    "memoryGiB": 32,
    "name": "ml.g4dn.2xlarge",
    "vcpuNum": 8
   },
   {
    "_defaultOrder": 30,
    "_isFastLaunch": false,
    "category": "Accelerated computing",
    "gpuNum": 1,
    "memoryGiB": 64,
    "name": "ml.g4dn.4xlarge",
    "vcpuNum": 16
   },
   {
    "_defaultOrder": 31,
    "_isFastLaunch": false,
    "category": "Accelerated computing",
    "gpuNum": 1,
    "memoryGiB": 128,
    "name": "ml.g4dn.8xlarge",
    "vcpuNum": 32
   },
   {
    "_defaultOrder": 32,
    "_isFastLaunch": false,
    "category": "Accelerated computing",
    "gpuNum": 4,
    "memoryGiB": 192,
    "name": "ml.g4dn.12xlarge",
    "vcpuNum": 48
   },
   {
    "_defaultOrder": 33,
    "_isFastLaunch": false,
    "category": "Accelerated computing",
    "gpuNum": 1,
    "memoryGiB": 256,
    "name": "ml.g4dn.16xlarge",
    "vcpuNum": 64
   },
   {
    "_defaultOrder": 34,
    "_isFastLaunch": false,
    "category": "Accelerated computing",
    "gpuNum": 1,
    "memoryGiB": 61,
    "name": "ml.p3.2xlarge",
    "vcpuNum": 8
   },
   {
    "_defaultOrder": 35,
    "_isFastLaunch": false,
    "category": "Accelerated computing",
    "gpuNum": 4,
    "memoryGiB": 244,
    "name": "ml.p3.8xlarge",
    "vcpuNum": 32
   },
   {
    "_defaultOrder": 36,
    "_isFastLaunch": false,
    "category": "Accelerated computing",
    "gpuNum": 8,
    "memoryGiB": 488,
    "name": "ml.p3.16xlarge",
    "vcpuNum": 64
   },
   {
    "_defaultOrder": 37,
    "_isFastLaunch": false,
    "category": "Accelerated computing",
    "gpuNum": 8,
    "memoryGiB": 768,
    "name": "ml.p3dn.24xlarge",
    "vcpuNum": 96
   },
   {
    "_defaultOrder": 38,
    "_isFastLaunch": false,
    "category": "Memory Optimized",
    "gpuNum": 0,
    "memoryGiB": 16,
    "name": "ml.r5.large",
    "vcpuNum": 2
   },
   {
    "_defaultOrder": 39,
    "_isFastLaunch": false,
    "category": "Memory Optimized",
    "gpuNum": 0,
    "memoryGiB": 32,
    "name": "ml.r5.xlarge",
    "vcpuNum": 4
   },
   {
    "_defaultOrder": 40,
    "_isFastLaunch": false,
    "category": "Memory Optimized",
    "gpuNum": 0,
    "memoryGiB": 64,
    "name": "ml.r5.2xlarge",
    "vcpuNum": 8
   },
   {
    "_defaultOrder": 41,
    "_isFastLaunch": false,
    "category": "Memory Optimized",
    "gpuNum": 0,
    "memoryGiB": 128,
    "name": "ml.r5.4xlarge",
    "vcpuNum": 16
   },
   {
    "_defaultOrder": 42,
    "_isFastLaunch": false,
    "category": "Memory Optimized",
    "gpuNum": 0,
    "memoryGiB": 256,
    "name": "ml.r5.8xlarge",
    "vcpuNum": 32
   },
   {
    "_defaultOrder": 43,
    "_isFastLaunch": false,
    "category": "Memory Optimized",
    "gpuNum": 0,
    "memoryGiB": 384,
    "name": "ml.r5.12xlarge",
    "vcpuNum": 48
   },
   {
    "_defaultOrder": 44,
    "_isFastLaunch": false,
    "category": "Memory Optimized",
    "gpuNum": 0,
    "memoryGiB": 512,
    "name": "ml.r5.16xlarge",
    "vcpuNum": 64
   },
   {
    "_defaultOrder": 45,
    "_isFastLaunch": false,
    "category": "Memory Optimized",
    "gpuNum": 0,
    "memoryGiB": 768,
    "name": "ml.r5.24xlarge",
    "vcpuNum": 96
   },
   {
    "_defaultOrder": 46,
    "_isFastLaunch": false,
    "category": "Accelerated computing",
    "gpuNum": 1,
    "memoryGiB": 16,
    "name": "ml.g5.xlarge",
    "vcpuNum": 4
   },
   {
    "_defaultOrder": 47,
    "_isFastLaunch": false,
    "category": "Accelerated computing",
    "gpuNum": 1,
    "memoryGiB": 32,
    "name": "ml.g5.2xlarge",
    "vcpuNum": 8
   },
   {
    "_defaultOrder": 48,
    "_isFastLaunch": false,
    "category": "Accelerated computing",
    "gpuNum": 1,
    "memoryGiB": 64,
    "name": "ml.g5.4xlarge",
    "vcpuNum": 16
   },
   {
    "_defaultOrder": 49,
    "_isFastLaunch": false,
    "category": "Accelerated computing",
    "gpuNum": 1,
    "memoryGiB": 128,
    "name": "ml.g5.8xlarge",
    "vcpuNum": 32
   },
   {
    "_defaultOrder": 50,
    "_isFastLaunch": false,
    "category": "Accelerated computing",
    "gpuNum": 1,
    "memoryGiB": 256,
    "name": "ml.g5.16xlarge",
    "vcpuNum": 64
   },
   {
    "_defaultOrder": 51,
    "_isFastLaunch": false,
    "category": "Accelerated computing",
    "gpuNum": 4,
    "memoryGiB": 192,
    "name": "ml.g5.12xlarge",
    "vcpuNum": 48
   },
   {
    "_defaultOrder": 52,
    "_isFastLaunch": false,
    "category": "Accelerated computing",
    "gpuNum": 4,
    "memoryGiB": 384,
    "name": "ml.g5.24xlarge",
    "vcpuNum": 96
   },
   {
    "_defaultOrder": 53,
    "_isFastLaunch": false,
    "category": "Accelerated computing",
    "gpuNum": 8,
    "memoryGiB": 768,
    "name": "ml.g5.48xlarge",
    "vcpuNum": 192
   }
  ],
  "instance_type": "ml.t3.medium",
  "kernelspec": {
   "display_name": "Python 3 (Data Science)",
   "language": "python",
   "name": "python3__SAGEMAKER_INTERNAL__arn:aws:sagemaker:us-east-1:081325390199:image/datascience-1.0"
  },
  "language_info": {
   "codemirror_mode": {
    "name": "ipython",
    "version": 3
   },
   "file_extension": ".py",
   "mimetype": "text/x-python",
   "name": "python",
   "nbconvert_exporter": "python",
   "pygments_lexer": "ipython3",
   "version": "3.7.10"
  }
 },
 "nbformat": 4,
 "nbformat_minor": 5
}
